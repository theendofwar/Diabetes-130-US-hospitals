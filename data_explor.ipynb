{
 "metadata": {
  "language_info": {
   "codemirror_mode": {
    "name": "ipython",
    "version": 3
   },
   "file_extension": ".py",
   "mimetype": "text/x-python",
   "name": "python",
   "nbconvert_exporter": "python",
   "pygments_lexer": "ipython3",
   "version": "3.7.3"
  },
  "orig_nbformat": 2,
  "kernelspec": {
   "name": "python373jvsc74a57bd05072976e69a6b2aea7b548592dafd1e476dd61783bbf2b8d8d96cc08fc9f6203",
   "display_name": "Python 3.7.3 32-bit"
  },
  "metadata": {
   "interpreter": {
    "hash": "5072976e69a6b2aea7b548592dafd1e476dd61783bbf2b8d8d96cc08fc9f6203"
   }
  }
 },
 "nbformat": 4,
 "nbformat_minor": 2,
 "cells": [
  {
   "cell_type": "code",
   "execution_count": 1,
   "metadata": {},
   "outputs": [],
   "source": [
    "import pandas as pd"
   ]
  },
  {
   "cell_type": "code",
   "execution_count": 2,
   "metadata": {},
   "outputs": [],
   "source": [
    "diabetes = pd.read_csv(\"dataset_diabetes\\diabetic_data.csv\")"
   ]
  },
  {
   "cell_type": "code",
   "execution_count": 4,
   "metadata": {},
   "outputs": [
    {
     "output_type": "execute_result",
     "data": {
      "text/plain": [
       "       encounter_id  patient_nbr             race  gender      age   weight  \\\n",
       "93490     336114932    182564042            Asian  Female  [40-50)        ?   \n",
       "3424       21226698      1637793  AfricanAmerican    Male  [50-60)        ?   \n",
       "61358     171377520     61826454        Caucasian  Female  [70-80)        ?   \n",
       "44118     136113834     72855180        Caucasian    Male  [80-90)  [50-75)   \n",
       "7527       35453826     18727542        Caucasian    Male  [70-80)        ?   \n",
       "90543     297178766     41120514        Caucasian  Female  [70-80)        ?   \n",
       "21948      76105614      4941567        Caucasian    Male  [80-90)        ?   \n",
       "88044     282273990    101306601        Caucasian  Female  [60-70)        ?   \n",
       "28174      92280582     56228130        Caucasian  Female  [40-50)        ?   \n",
       "38586     119959896     33715422        Caucasian  Female  [30-40)        ?   \n",
       "\n",
       "       admission_type_id  discharge_disposition_id  admission_source_id  \\\n",
       "93490                  3                         1                    1   \n",
       "3424                   3                        11                    1   \n",
       "61358                  2                        13                    1   \n",
       "44118                  1                         1                    7   \n",
       "7527                   3                         1                    1   \n",
       "90543                  1                         1                    7   \n",
       "21948                  6                         1                   17   \n",
       "88044                  3                         3                    1   \n",
       "28174                  2                         1                    1   \n",
       "38586                  3                         1                    1   \n",
       "\n",
       "       time_in_hospital  ... citoglipton insulin  glyburide-metformin  \\\n",
       "93490                 2  ...          No  Steady                   No   \n",
       "3424                 13  ...          No  Steady                   No   \n",
       "61358                 3  ...          No    Down                   No   \n",
       "44118                 4  ...          No      No                   No   \n",
       "7527                  4  ...          No  Steady                   No   \n",
       "90543                 4  ...          No      No                   No   \n",
       "21948                10  ...          No      No                   No   \n",
       "88044                 4  ...          No      No                   No   \n",
       "28174                 3  ...          No    Down                   No   \n",
       "38586                 5  ...          No  Steady                   No   \n",
       "\n",
       "       glipizide-metformin  glimepiride-pioglitazone  metformin-rosiglitazone  \\\n",
       "93490                   No                        No                       No   \n",
       "3424                    No                        No                       No   \n",
       "61358                   No                        No                       No   \n",
       "44118                   No                        No                       No   \n",
       "7527                    No                        No                       No   \n",
       "90543                   No                        No                       No   \n",
       "21948                   No                        No                       No   \n",
       "88044                   No                        No                       No   \n",
       "28174                   No                        No                       No   \n",
       "38586                   No                        No                       No   \n",
       "\n",
       "       metformin-pioglitazone  change diabetesMed readmitted  \n",
       "93490                      No      Ch         Yes         NO  \n",
       "3424                       No      Ch         Yes         NO  \n",
       "61358                      No      Ch         Yes         NO  \n",
       "44118                      No      No          No        >30  \n",
       "7527                       No      No         Yes         NO  \n",
       "90543                      No      No         Yes        >30  \n",
       "21948                      No      Ch         Yes        >30  \n",
       "88044                      No      Ch         Yes        >30  \n",
       "28174                      No      Ch         Yes        >30  \n",
       "38586                      No      No         Yes         NO  \n",
       "\n",
       "[10 rows x 50 columns]"
      ],
      "text/html": "<div>\n<style scoped>\n    .dataframe tbody tr th:only-of-type {\n        vertical-align: middle;\n    }\n\n    .dataframe tbody tr th {\n        vertical-align: top;\n    }\n\n    .dataframe thead th {\n        text-align: right;\n    }\n</style>\n<table border=\"1\" class=\"dataframe\">\n  <thead>\n    <tr style=\"text-align: right;\">\n      <th></th>\n      <th>encounter_id</th>\n      <th>patient_nbr</th>\n      <th>race</th>\n      <th>gender</th>\n      <th>age</th>\n      <th>weight</th>\n      <th>admission_type_id</th>\n      <th>discharge_disposition_id</th>\n      <th>admission_source_id</th>\n      <th>time_in_hospital</th>\n      <th>...</th>\n      <th>citoglipton</th>\n      <th>insulin</th>\n      <th>glyburide-metformin</th>\n      <th>glipizide-metformin</th>\n      <th>glimepiride-pioglitazone</th>\n      <th>metformin-rosiglitazone</th>\n      <th>metformin-pioglitazone</th>\n      <th>change</th>\n      <th>diabetesMed</th>\n      <th>readmitted</th>\n    </tr>\n  </thead>\n  <tbody>\n    <tr>\n      <th>93490</th>\n      <td>336114932</td>\n      <td>182564042</td>\n      <td>Asian</td>\n      <td>Female</td>\n      <td>[40-50)</td>\n      <td>?</td>\n      <td>3</td>\n      <td>1</td>\n      <td>1</td>\n      <td>2</td>\n      <td>...</td>\n      <td>No</td>\n      <td>Steady</td>\n      <td>No</td>\n      <td>No</td>\n      <td>No</td>\n      <td>No</td>\n      <td>No</td>\n      <td>Ch</td>\n      <td>Yes</td>\n      <td>NO</td>\n    </tr>\n    <tr>\n      <th>3424</th>\n      <td>21226698</td>\n      <td>1637793</td>\n      <td>AfricanAmerican</td>\n      <td>Male</td>\n      <td>[50-60)</td>\n      <td>?</td>\n      <td>3</td>\n      <td>11</td>\n      <td>1</td>\n      <td>13</td>\n      <td>...</td>\n      <td>No</td>\n      <td>Steady</td>\n      <td>No</td>\n      <td>No</td>\n      <td>No</td>\n      <td>No</td>\n      <td>No</td>\n      <td>Ch</td>\n      <td>Yes</td>\n      <td>NO</td>\n    </tr>\n    <tr>\n      <th>61358</th>\n      <td>171377520</td>\n      <td>61826454</td>\n      <td>Caucasian</td>\n      <td>Female</td>\n      <td>[70-80)</td>\n      <td>?</td>\n      <td>2</td>\n      <td>13</td>\n      <td>1</td>\n      <td>3</td>\n      <td>...</td>\n      <td>No</td>\n      <td>Down</td>\n      <td>No</td>\n      <td>No</td>\n      <td>No</td>\n      <td>No</td>\n      <td>No</td>\n      <td>Ch</td>\n      <td>Yes</td>\n      <td>NO</td>\n    </tr>\n    <tr>\n      <th>44118</th>\n      <td>136113834</td>\n      <td>72855180</td>\n      <td>Caucasian</td>\n      <td>Male</td>\n      <td>[80-90)</td>\n      <td>[50-75)</td>\n      <td>1</td>\n      <td>1</td>\n      <td>7</td>\n      <td>4</td>\n      <td>...</td>\n      <td>No</td>\n      <td>No</td>\n      <td>No</td>\n      <td>No</td>\n      <td>No</td>\n      <td>No</td>\n      <td>No</td>\n      <td>No</td>\n      <td>No</td>\n      <td>&gt;30</td>\n    </tr>\n    <tr>\n      <th>7527</th>\n      <td>35453826</td>\n      <td>18727542</td>\n      <td>Caucasian</td>\n      <td>Male</td>\n      <td>[70-80)</td>\n      <td>?</td>\n      <td>3</td>\n      <td>1</td>\n      <td>1</td>\n      <td>4</td>\n      <td>...</td>\n      <td>No</td>\n      <td>Steady</td>\n      <td>No</td>\n      <td>No</td>\n      <td>No</td>\n      <td>No</td>\n      <td>No</td>\n      <td>No</td>\n      <td>Yes</td>\n      <td>NO</td>\n    </tr>\n    <tr>\n      <th>90543</th>\n      <td>297178766</td>\n      <td>41120514</td>\n      <td>Caucasian</td>\n      <td>Female</td>\n      <td>[70-80)</td>\n      <td>?</td>\n      <td>1</td>\n      <td>1</td>\n      <td>7</td>\n      <td>4</td>\n      <td>...</td>\n      <td>No</td>\n      <td>No</td>\n      <td>No</td>\n      <td>No</td>\n      <td>No</td>\n      <td>No</td>\n      <td>No</td>\n      <td>No</td>\n      <td>Yes</td>\n      <td>&gt;30</td>\n    </tr>\n    <tr>\n      <th>21948</th>\n      <td>76105614</td>\n      <td>4941567</td>\n      <td>Caucasian</td>\n      <td>Male</td>\n      <td>[80-90)</td>\n      <td>?</td>\n      <td>6</td>\n      <td>1</td>\n      <td>17</td>\n      <td>10</td>\n      <td>...</td>\n      <td>No</td>\n      <td>No</td>\n      <td>No</td>\n      <td>No</td>\n      <td>No</td>\n      <td>No</td>\n      <td>No</td>\n      <td>Ch</td>\n      <td>Yes</td>\n      <td>&gt;30</td>\n    </tr>\n    <tr>\n      <th>88044</th>\n      <td>282273990</td>\n      <td>101306601</td>\n      <td>Caucasian</td>\n      <td>Female</td>\n      <td>[60-70)</td>\n      <td>?</td>\n      <td>3</td>\n      <td>3</td>\n      <td>1</td>\n      <td>4</td>\n      <td>...</td>\n      <td>No</td>\n      <td>No</td>\n      <td>No</td>\n      <td>No</td>\n      <td>No</td>\n      <td>No</td>\n      <td>No</td>\n      <td>Ch</td>\n      <td>Yes</td>\n      <td>&gt;30</td>\n    </tr>\n    <tr>\n      <th>28174</th>\n      <td>92280582</td>\n      <td>56228130</td>\n      <td>Caucasian</td>\n      <td>Female</td>\n      <td>[40-50)</td>\n      <td>?</td>\n      <td>2</td>\n      <td>1</td>\n      <td>1</td>\n      <td>3</td>\n      <td>...</td>\n      <td>No</td>\n      <td>Down</td>\n      <td>No</td>\n      <td>No</td>\n      <td>No</td>\n      <td>No</td>\n      <td>No</td>\n      <td>Ch</td>\n      <td>Yes</td>\n      <td>&gt;30</td>\n    </tr>\n    <tr>\n      <th>38586</th>\n      <td>119959896</td>\n      <td>33715422</td>\n      <td>Caucasian</td>\n      <td>Female</td>\n      <td>[30-40)</td>\n      <td>?</td>\n      <td>3</td>\n      <td>1</td>\n      <td>1</td>\n      <td>5</td>\n      <td>...</td>\n      <td>No</td>\n      <td>Steady</td>\n      <td>No</td>\n      <td>No</td>\n      <td>No</td>\n      <td>No</td>\n      <td>No</td>\n      <td>No</td>\n      <td>Yes</td>\n      <td>NO</td>\n    </tr>\n  </tbody>\n</table>\n<p>10 rows × 50 columns</p>\n</div>"
     },
     "metadata": {},
     "execution_count": 4
    }
   ],
   "source": [
    "#Here give some visualization of some random sample in the database\n",
    "diabetes.sample(10)"
   ]
  },
  {
   "cell_type": "code",
   "execution_count": 5,
   "metadata": {},
   "outputs": [
    {
     "output_type": "execute_result",
     "data": {
      "text/plain": [
       "(101766, 50)"
      ]
     },
     "metadata": {},
     "execution_count": 5
    }
   ],
   "source": [
    "diabetes.shape"
   ]
  },
  {
   "cell_type": "code",
   "execution_count": 6,
   "metadata": {},
   "outputs": [
    {
     "output_type": "stream",
     "name": "stdout",
     "text": [
      "<class 'pandas.core.frame.DataFrame'>\nRangeIndex: 101766 entries, 0 to 101765\nData columns (total 50 columns):\n #   Column                    Non-Null Count   Dtype \n---  ------                    --------------   ----- \n 0   encounter_id              101766 non-null  int64 \n 1   patient_nbr               101766 non-null  int64 \n 2   race                      101766 non-null  object\n 3   gender                    101766 non-null  object\n 4   age                       101766 non-null  object\n 5   weight                    101766 non-null  object\n 6   admission_type_id         101766 non-null  int64 \n 7   discharge_disposition_id  101766 non-null  int64 \n 8   admission_source_id       101766 non-null  int64 \n 9   time_in_hospital          101766 non-null  int64 \n 10  payer_code                101766 non-null  object\n 11  medical_specialty         101766 non-null  object\n 12  num_lab_procedures        101766 non-null  int64 \n 13  num_procedures            101766 non-null  int64 \n 14  num_medications           101766 non-null  int64 \n 15  number_outpatient         101766 non-null  int64 \n 16  number_emergency          101766 non-null  int64 \n 17  number_inpatient          101766 non-null  int64 \n 18  diag_1                    101766 non-null  object\n 19  diag_2                    101766 non-null  object\n 20  diag_3                    101766 non-null  object\n 21  number_diagnoses          101766 non-null  int64 \n 22  max_glu_serum             101766 non-null  object\n 23  A1Cresult                 101766 non-null  object\n 24  metformin                 101766 non-null  object\n 25  repaglinide               101766 non-null  object\n 26  nateglinide               101766 non-null  object\n 27  chlorpropamide            101766 non-null  object\n 28  glimepiride               101766 non-null  object\n 29  acetohexamide             101766 non-null  object\n 30  glipizide                 101766 non-null  object\n 31  glyburide                 101766 non-null  object\n 32  tolbutamide               101766 non-null  object\n 33  pioglitazone              101766 non-null  object\n 34  rosiglitazone             101766 non-null  object\n 35  acarbose                  101766 non-null  object\n 36  miglitol                  101766 non-null  object\n 37  troglitazone              101766 non-null  object\n 38  tolazamide                101766 non-null  object\n 39  examide                   101766 non-null  object\n 40  citoglipton               101766 non-null  object\n 41  insulin                   101766 non-null  object\n 42  glyburide-metformin       101766 non-null  object\n 43  glipizide-metformin       101766 non-null  object\n 44  glimepiride-pioglitazone  101766 non-null  object\n 45  metformin-rosiglitazone   101766 non-null  object\n 46  metformin-pioglitazone    101766 non-null  object\n 47  change                    101766 non-null  object\n 48  diabetesMed               101766 non-null  object\n 49  readmitted                101766 non-null  object\ndtypes: int64(13), object(37)\nmemory usage: 24.5+ MB\n"
     ]
    }
   ],
   "source": [
    "diabetes.info()"
   ]
  },
  {
   "cell_type": "code",
   "execution_count": 12,
   "metadata": {},
   "outputs": [
    {
     "output_type": "execute_result",
     "data": {
      "text/plain": [
       "array(['?', 'MC', 'MD', 'HM', 'UN', 'BC', 'SP', 'CP', 'SI', 'DM', 'CM',\n",
       "       'CH', 'PO', 'WC', 'OT', 'OG', 'MP', 'FR'], dtype=object)"
      ]
     },
     "metadata": {},
     "execution_count": 12
    }
   ],
   "source": [
    "diag_1 = diabetes[\"diag_1\"]\n",
    "admission = diabetes[\"payer_code\"].unique()\n",
    "admission"
   ]
  },
  {
   "source": [
    "### Problem\n",
    "\n",
    "How to split the data, visualize it and modify it to actual train data. "
   ],
   "cell_type": "markdown",
   "metadata": {}
  }
 ]
}